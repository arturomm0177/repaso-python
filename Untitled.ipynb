{
 "cells": [
  {
   "cell_type": "code",
   "execution_count": 7,
   "id": "f12ad933",
   "metadata": {},
   "outputs": [
    {
     "name": "stdout",
     "output_type": "stream",
     "text": [
      "La suma de los 2 numeros es : 15\n",
      "La multiplicacion50\n",
      "Vmoas a sumar 2 numeros Introduce el primer numero2\n",
      "Vamos a sumar 2 numeros Introduce el segundo numero2\n",
      "El resultado de la suma es 22\n"
     ]
    }
   ],
   "source": [
    "numero1= 5\n",
    "numero2=10\n",
    "suma = numero1 + numero2\n",
    "print(\"La suma de los 2 numeros es : \"+ str(suma))\n",
    "print(\"La multiplicacion\"+ str(numero1 * numero2))\n",
    "a = input(\"Vmoas a sumar 2 numeros Introduce el primer numero\")\n",
    "b = input(\"Vamos a sumar 2 numeros Introduce el segundo numero\")\n",
    "print(\"El resultado de la suma es \" +str(int(a)+ int(b)))"
   ]
  },
  {
   "cell_type": "code",
   "execution_count": 1,
   "id": "05c735ce",
   "metadata": {
    "tags": []
   },
   "outputs": [
    {
     "name": "stdout",
     "output_type": "stream",
     "text": [
      "la lista es [1, 2, 3, 4, 5]\n",
      "1\n",
      "2\n",
      "3\n",
      "4\n",
      "5\n"
     ]
    }
   ],
   "source": [
    "mi_lista = [1,2,3,4,5]\n",
    "print(\"la lista es \"+str(mi_lista))\n",
    "for elemento in mi_lista:\n",
    "    print(str(elemento))"
   ]
  },
  {
   "cell_type": "code",
   "execution_count": 4,
   "id": "8b093d50",
   "metadata": {
    "tags": []
   },
   "outputs": [
    {
     "name": "stdout",
     "output_type": "stream",
     "text": [
      "sum: 110\n"
     ]
    }
   ],
   "source": [
    "i=1\n",
    "s=0\n",
    "while i <=10:\n",
    "    s=s+i*2\n",
    "    i=i+1\n",
    "print(\"sum:\",s)"
   ]
  },
  {
   "cell_type": "code",
   "execution_count": 11,
   "id": "9ef5b863",
   "metadata": {
    "tags": []
   },
   "outputs": [
    {
     "name": "stdout",
     "output_type": "stream",
     "text": [
      "0 marca audi\n",
      "1 marca ford\n",
      "2 marca citroen\n",
      "3 marca ferrari\n",
      "4 marca seat\n"
     ]
    }
   ],
   "source": [
    "lista_marcas_coches = [\"audi\",\"ford\",\"citroen\",\"ferrari\",\"seat\"]\n",
    "for indice in range(len(lista_marcas_coche)):\n",
    "                      print(str(indice)+\" marca \"+lista_marcas_coches[indice])\n",
    "                    "
   ]
  },
  {
   "cell_type": "code",
   "execution_count": null,
   "id": "dcaaf4f3-9b94-468e-82d5-56e6a2c55fc2",
   "metadata": {},
   "outputs": [],
   "source": []
  },
  {
   "cell_type": "code",
   "execution_count": null,
   "id": "5c1e8d96-5278-4143-af15-7421a467ff6e",
   "metadata": {},
   "outputs": [],
   "source": []
  }
 ],
 "metadata": {
  "kernelspec": {
   "display_name": "Python 3 (ipykernel)",
   "language": "python",
   "name": "python3"
  },
  "language_info": {
   "codemirror_mode": {
    "name": "ipython",
    "version": 3
   },
   "file_extension": ".py",
   "mimetype": "text/x-python",
   "name": "python",
   "nbconvert_exporter": "python",
   "pygments_lexer": "ipython3",
   "version": "3.11.5"
  }
 },
 "nbformat": 4,
 "nbformat_minor": 5
}
